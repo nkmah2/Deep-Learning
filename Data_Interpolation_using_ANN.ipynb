{
  "nbformat": 4,
  "nbformat_minor": 0,
  "metadata": {
    "colab": {
      "provenance": [],
      "authorship_tag": "ABX9TyMNh10GBcuX7P2Bp+K27xMH",
      "include_colab_link": true
    },
    "kernelspec": {
      "name": "python3",
      "display_name": "Python 3"
    },
    "language_info": {
      "name": "python"
    }
  },
  "cells": [
    {
      "cell_type": "markdown",
      "metadata": {
        "id": "view-in-github",
        "colab_type": "text"
      },
      "source": [
        "<a href=\"https://colab.research.google.com/github/nkmah2/Deep-Learning/blob/master/Data_Interpolation_using_ANN.ipynb\" target=\"_parent\"><img src=\"https://colab.research.google.com/assets/colab-badge.svg\" alt=\"Open In Colab\"/></a>"
      ]
    },
    {
      "cell_type": "code",
      "execution_count": 51,
      "metadata": {
        "id": "KPI0wze5ywVz"
      },
      "outputs": [],
      "source": [
        "# DL      \n",
        "import torch\n",
        "import torch.nn as nn\n",
        "import torch.nn.functional as F\n",
        "from torch.utils.data import DataLoader, TensorDataset\n",
        "from sklearn.model_selection import train_test_split\n",
        "\n",
        "# Number operations\n",
        "import numpy as np\n",
        "import scipy.stats as stats\n",
        "# Data management\n",
        "import pandas as pd\n",
        "# Data viz\n",
        "import matplotlib.pyplot as plt\n",
        "import seaborn as sns\n",
        "\n",
        "import copy"
      ]
    },
    {
      "cell_type": "code",
      "source": [
        "# Import wine data\n",
        "url = \"https://archive.ics.uci.edu/ml/machine-learning-databases/wine-quality/winequality-red.csv\"\n",
        "data = pd.read_csv(url,sep=';')"
      ],
      "metadata": {
        "id": "sKWBR3DGzAj1"
      },
      "execution_count": 52,
      "outputs": []
    },
    {
      "cell_type": "code",
      "source": [
        "data.shape"
      ],
      "metadata": {
        "colab": {
          "base_uri": "https://localhost:8080/"
        },
        "id": "a5GkiTcizG9Y",
        "outputId": "81a03e4d-bc01-489a-e846-087ff4272060"
      },
      "execution_count": 53,
      "outputs": [
        {
          "output_type": "execute_result",
          "data": {
            "text/plain": [
              "(1599, 12)"
            ]
          },
          "metadata": {},
          "execution_count": 53
        }
      ]
    },
    {
      "cell_type": "code",
      "source": [
        "data = data.replace('?',np.nan).dropna()\n",
        "print(data.shape)"
      ],
      "metadata": {
        "colab": {
          "base_uri": "https://localhost:8080/"
        },
        "id": "vRIs959o-Kxx",
        "outputId": "61106ce9-4b13-435b-86fa-196e6f203a81"
      },
      "execution_count": 54,
      "outputs": [
        {
          "output_type": "stream",
          "name": "stdout",
          "text": [
            "(1599, 12)\n"
          ]
        }
      ]
    },
    {
      "cell_type": "code",
      "source": [
        "data.describe()"
      ],
      "metadata": {
        "colab": {
          "base_uri": "https://localhost:8080/",
          "height": 399
        },
        "id": "MKqCkL43zJL6",
        "outputId": "8f897a23-be32-486d-cbb9-d43db40b31f8"
      },
      "execution_count": 55,
      "outputs": [
        {
          "output_type": "execute_result",
          "data": {
            "text/plain": [
              "       fixed acidity  volatile acidity  citric acid  residual sugar  \\\n",
              "count    1599.000000       1599.000000  1599.000000     1599.000000   \n",
              "mean        8.319637          0.527821     0.270976        2.538806   \n",
              "std         1.741096          0.179060     0.194801        1.409928   \n",
              "min         4.600000          0.120000     0.000000        0.900000   \n",
              "25%         7.100000          0.390000     0.090000        1.900000   \n",
              "50%         7.900000          0.520000     0.260000        2.200000   \n",
              "75%         9.200000          0.640000     0.420000        2.600000   \n",
              "max        15.900000          1.580000     1.000000       15.500000   \n",
              "\n",
              "         chlorides  free sulfur dioxide  total sulfur dioxide      density  \\\n",
              "count  1599.000000          1599.000000           1599.000000  1599.000000   \n",
              "mean      0.087467            15.874922             46.467792     0.996747   \n",
              "std       0.047065            10.460157             32.895324     0.001887   \n",
              "min       0.012000             1.000000              6.000000     0.990070   \n",
              "25%       0.070000             7.000000             22.000000     0.995600   \n",
              "50%       0.079000            14.000000             38.000000     0.996750   \n",
              "75%       0.090000            21.000000             62.000000     0.997835   \n",
              "max       0.611000            72.000000            289.000000     1.003690   \n",
              "\n",
              "                pH    sulphates      alcohol      quality  \n",
              "count  1599.000000  1599.000000  1599.000000  1599.000000  \n",
              "mean      3.311113     0.658149    10.422983     5.636023  \n",
              "std       0.154386     0.169507     1.065668     0.807569  \n",
              "min       2.740000     0.330000     8.400000     3.000000  \n",
              "25%       3.210000     0.550000     9.500000     5.000000  \n",
              "50%       3.310000     0.620000    10.200000     6.000000  \n",
              "75%       3.400000     0.730000    11.100000     6.000000  \n",
              "max       4.010000     2.000000    14.900000     8.000000  "
            ],
            "text/html": [
              "\n",
              "  <div id=\"df-f0effb88-3071-4711-9be1-c849668dd8dd\">\n",
              "    <div class=\"colab-df-container\">\n",
              "      <div>\n",
              "<style scoped>\n",
              "    .dataframe tbody tr th:only-of-type {\n",
              "        vertical-align: middle;\n",
              "    }\n",
              "\n",
              "    .dataframe tbody tr th {\n",
              "        vertical-align: top;\n",
              "    }\n",
              "\n",
              "    .dataframe thead th {\n",
              "        text-align: right;\n",
              "    }\n",
              "</style>\n",
              "<table border=\"1\" class=\"dataframe\">\n",
              "  <thead>\n",
              "    <tr style=\"text-align: right;\">\n",
              "      <th></th>\n",
              "      <th>fixed acidity</th>\n",
              "      <th>volatile acidity</th>\n",
              "      <th>citric acid</th>\n",
              "      <th>residual sugar</th>\n",
              "      <th>chlorides</th>\n",
              "      <th>free sulfur dioxide</th>\n",
              "      <th>total sulfur dioxide</th>\n",
              "      <th>density</th>\n",
              "      <th>pH</th>\n",
              "      <th>sulphates</th>\n",
              "      <th>alcohol</th>\n",
              "      <th>quality</th>\n",
              "    </tr>\n",
              "  </thead>\n",
              "  <tbody>\n",
              "    <tr>\n",
              "      <th>count</th>\n",
              "      <td>1599.000000</td>\n",
              "      <td>1599.000000</td>\n",
              "      <td>1599.000000</td>\n",
              "      <td>1599.000000</td>\n",
              "      <td>1599.000000</td>\n",
              "      <td>1599.000000</td>\n",
              "      <td>1599.000000</td>\n",
              "      <td>1599.000000</td>\n",
              "      <td>1599.000000</td>\n",
              "      <td>1599.000000</td>\n",
              "      <td>1599.000000</td>\n",
              "      <td>1599.000000</td>\n",
              "    </tr>\n",
              "    <tr>\n",
              "      <th>mean</th>\n",
              "      <td>8.319637</td>\n",
              "      <td>0.527821</td>\n",
              "      <td>0.270976</td>\n",
              "      <td>2.538806</td>\n",
              "      <td>0.087467</td>\n",
              "      <td>15.874922</td>\n",
              "      <td>46.467792</td>\n",
              "      <td>0.996747</td>\n",
              "      <td>3.311113</td>\n",
              "      <td>0.658149</td>\n",
              "      <td>10.422983</td>\n",
              "      <td>5.636023</td>\n",
              "    </tr>\n",
              "    <tr>\n",
              "      <th>std</th>\n",
              "      <td>1.741096</td>\n",
              "      <td>0.179060</td>\n",
              "      <td>0.194801</td>\n",
              "      <td>1.409928</td>\n",
              "      <td>0.047065</td>\n",
              "      <td>10.460157</td>\n",
              "      <td>32.895324</td>\n",
              "      <td>0.001887</td>\n",
              "      <td>0.154386</td>\n",
              "      <td>0.169507</td>\n",
              "      <td>1.065668</td>\n",
              "      <td>0.807569</td>\n",
              "    </tr>\n",
              "    <tr>\n",
              "      <th>min</th>\n",
              "      <td>4.600000</td>\n",
              "      <td>0.120000</td>\n",
              "      <td>0.000000</td>\n",
              "      <td>0.900000</td>\n",
              "      <td>0.012000</td>\n",
              "      <td>1.000000</td>\n",
              "      <td>6.000000</td>\n",
              "      <td>0.990070</td>\n",
              "      <td>2.740000</td>\n",
              "      <td>0.330000</td>\n",
              "      <td>8.400000</td>\n",
              "      <td>3.000000</td>\n",
              "    </tr>\n",
              "    <tr>\n",
              "      <th>25%</th>\n",
              "      <td>7.100000</td>\n",
              "      <td>0.390000</td>\n",
              "      <td>0.090000</td>\n",
              "      <td>1.900000</td>\n",
              "      <td>0.070000</td>\n",
              "      <td>7.000000</td>\n",
              "      <td>22.000000</td>\n",
              "      <td>0.995600</td>\n",
              "      <td>3.210000</td>\n",
              "      <td>0.550000</td>\n",
              "      <td>9.500000</td>\n",
              "      <td>5.000000</td>\n",
              "    </tr>\n",
              "    <tr>\n",
              "      <th>50%</th>\n",
              "      <td>7.900000</td>\n",
              "      <td>0.520000</td>\n",
              "      <td>0.260000</td>\n",
              "      <td>2.200000</td>\n",
              "      <td>0.079000</td>\n",
              "      <td>14.000000</td>\n",
              "      <td>38.000000</td>\n",
              "      <td>0.996750</td>\n",
              "      <td>3.310000</td>\n",
              "      <td>0.620000</td>\n",
              "      <td>10.200000</td>\n",
              "      <td>6.000000</td>\n",
              "    </tr>\n",
              "    <tr>\n",
              "      <th>75%</th>\n",
              "      <td>9.200000</td>\n",
              "      <td>0.640000</td>\n",
              "      <td>0.420000</td>\n",
              "      <td>2.600000</td>\n",
              "      <td>0.090000</td>\n",
              "      <td>21.000000</td>\n",
              "      <td>62.000000</td>\n",
              "      <td>0.997835</td>\n",
              "      <td>3.400000</td>\n",
              "      <td>0.730000</td>\n",
              "      <td>11.100000</td>\n",
              "      <td>6.000000</td>\n",
              "    </tr>\n",
              "    <tr>\n",
              "      <th>max</th>\n",
              "      <td>15.900000</td>\n",
              "      <td>1.580000</td>\n",
              "      <td>1.000000</td>\n",
              "      <td>15.500000</td>\n",
              "      <td>0.611000</td>\n",
              "      <td>72.000000</td>\n",
              "      <td>289.000000</td>\n",
              "      <td>1.003690</td>\n",
              "      <td>4.010000</td>\n",
              "      <td>2.000000</td>\n",
              "      <td>14.900000</td>\n",
              "      <td>8.000000</td>\n",
              "    </tr>\n",
              "  </tbody>\n",
              "</table>\n",
              "</div>\n",
              "      <button class=\"colab-df-convert\" onclick=\"convertToInteractive('df-f0effb88-3071-4711-9be1-c849668dd8dd')\"\n",
              "              title=\"Convert this dataframe to an interactive table.\"\n",
              "              style=\"display:none;\">\n",
              "        \n",
              "  <svg xmlns=\"http://www.w3.org/2000/svg\" height=\"24px\"viewBox=\"0 0 24 24\"\n",
              "       width=\"24px\">\n",
              "    <path d=\"M0 0h24v24H0V0z\" fill=\"none\"/>\n",
              "    <path d=\"M18.56 5.44l.94 2.06.94-2.06 2.06-.94-2.06-.94-.94-2.06-.94 2.06-2.06.94zm-11 1L8.5 8.5l.94-2.06 2.06-.94-2.06-.94L8.5 2.5l-.94 2.06-2.06.94zm10 10l.94 2.06.94-2.06 2.06-.94-2.06-.94-.94-2.06-.94 2.06-2.06.94z\"/><path d=\"M17.41 7.96l-1.37-1.37c-.4-.4-.92-.59-1.43-.59-.52 0-1.04.2-1.43.59L10.3 9.45l-7.72 7.72c-.78.78-.78 2.05 0 2.83L4 21.41c.39.39.9.59 1.41.59.51 0 1.02-.2 1.41-.59l7.78-7.78 2.81-2.81c.8-.78.8-2.07 0-2.86zM5.41 20L4 18.59l7.72-7.72 1.47 1.35L5.41 20z\"/>\n",
              "  </svg>\n",
              "      </button>\n",
              "      \n",
              "  <style>\n",
              "    .colab-df-container {\n",
              "      display:flex;\n",
              "      flex-wrap:wrap;\n",
              "      gap: 12px;\n",
              "    }\n",
              "\n",
              "    .colab-df-convert {\n",
              "      background-color: #E8F0FE;\n",
              "      border: none;\n",
              "      border-radius: 50%;\n",
              "      cursor: pointer;\n",
              "      display: none;\n",
              "      fill: #1967D2;\n",
              "      height: 32px;\n",
              "      padding: 0 0 0 0;\n",
              "      width: 32px;\n",
              "    }\n",
              "\n",
              "    .colab-df-convert:hover {\n",
              "      background-color: #E2EBFA;\n",
              "      box-shadow: 0px 1px 2px rgba(60, 64, 67, 0.3), 0px 1px 3px 1px rgba(60, 64, 67, 0.15);\n",
              "      fill: #174EA6;\n",
              "    }\n",
              "\n",
              "    [theme=dark] .colab-df-convert {\n",
              "      background-color: #3B4455;\n",
              "      fill: #D2E3FC;\n",
              "    }\n",
              "\n",
              "    [theme=dark] .colab-df-convert:hover {\n",
              "      background-color: #434B5C;\n",
              "      box-shadow: 0px 1px 3px 1px rgba(0, 0, 0, 0.15);\n",
              "      filter: drop-shadow(0px 1px 2px rgba(0, 0, 0, 0.3));\n",
              "      fill: #FFFFFF;\n",
              "    }\n",
              "  </style>\n",
              "\n",
              "      <script>\n",
              "        const buttonEl =\n",
              "          document.querySelector('#df-f0effb88-3071-4711-9be1-c849668dd8dd button.colab-df-convert');\n",
              "        buttonEl.style.display =\n",
              "          google.colab.kernel.accessAllowed ? 'block' : 'none';\n",
              "\n",
              "        async function convertToInteractive(key) {\n",
              "          const element = document.querySelector('#df-f0effb88-3071-4711-9be1-c849668dd8dd');\n",
              "          const dataTable =\n",
              "            await google.colab.kernel.invokeFunction('convertToInteractive',\n",
              "                                                     [key], {});\n",
              "          if (!dataTable) return;\n",
              "\n",
              "          const docLinkHtml = 'Like what you see? Visit the ' +\n",
              "            '<a target=\"_blank\" href=https://colab.research.google.com/notebooks/data_table.ipynb>data table notebook</a>'\n",
              "            + ' to learn more about interactive tables.';\n",
              "          element.innerHTML = '';\n",
              "          dataTable['output_type'] = 'display_data';\n",
              "          await google.colab.output.renderOutput(dataTable, element);\n",
              "          const docLink = document.createElement('div');\n",
              "          docLink.innerHTML = docLinkHtml;\n",
              "          element.appendChild(docLink);\n",
              "        }\n",
              "      </script>\n",
              "    </div>\n",
              "  </div>\n",
              "  "
            ]
          },
          "metadata": {},
          "execution_count": 55
        }
      ]
    },
    {
      "cell_type": "code",
      "source": [
        "fig, ax = plt.subplots(1,figsize=(17,4))\n",
        "ax = sns.boxplot(data=data)\n",
        "ax.set_xticklabels(ax.get_xticklabels())\n",
        "plt.show()"
      ],
      "metadata": {
        "colab": {
          "base_uri": "https://localhost:8080/",
          "height": 302
        },
        "id": "3PAAcv1m6ypv",
        "outputId": "086aa40c-c607-459f-b2df-b42b294d08e3"
      },
      "execution_count": 56,
      "outputs": [
        {
          "output_type": "display_data",
          "data": {
            "text/plain": [
              "<Figure size 1700x400 with 1 Axes>"
            ],
            "image/png": "[encoded data removed]"
          },
          "metadata": {}
        }
      ]
    },
    {
      "cell_type": "code",
      "source": [
        "# Z score all the data\n",
        "myColsNames = data.keys()\n",
        "for n in myColsNames:\n",
        "  colData = pd.to_numeric(data[n])\n",
        "  data[n] = (colData - np.mean(colData)) / np.std(colData)"
      ],
      "metadata": {
        "id": "VYjbyCiWzbBM"
      },
      "execution_count": 57,
      "outputs": []
    },
    {
      "cell_type": "code",
      "source": [
        "data.describe()"
      ],
      "metadata": {
        "colab": {
          "base_uri": "https://localhost:8080/",
          "height": 399
        },
        "id": "LWIzGX896Tms",
        "outputId": "f024aa5f-ac21-44d8-dbde-92c268c9f732"
      },
      "execution_count": 58,
      "outputs": [
        {
          "output_type": "execute_result",
          "data": {
            "text/plain": [
              "       fixed acidity  volatile acidity   citric acid  residual sugar  \\\n",
              "count   1.599000e+03      1.599000e+03  1.599000e+03    1.599000e+03   \n",
              "mean    3.554936e-16      1.733031e-16 -8.887339e-17   -1.244227e-16   \n",
              "std     1.000313e+00      1.000313e+00  1.000313e+00    1.000313e+00   \n",
              "min    -2.137045e+00     -2.278280e+00 -1.391472e+00   -1.162696e+00   \n",
              "25%    -7.007187e-01     -7.699311e-01 -9.293181e-01   -4.532184e-01   \n",
              "50%    -2.410944e-01     -4.368911e-02 -5.636026e-02   -2.403750e-01   \n",
              "75%     5.057952e-01      6.266881e-01  7.652471e-01    4.341614e-02   \n",
              "max     4.355149e+00      5.877976e+00  3.743574e+00    9.195681e+00   \n",
              "\n",
              "          chlorides  free sulfur dioxide  total sulfur dioxide       density  \\\n",
              "count  1.599000e+03         1.599000e+03          1.599000e+03  1.599000e+03   \n",
              "mean   3.732682e-16        -6.221137e-17          4.443669e-17 -3.473172e-14   \n",
              "std    1.000313e+00         1.000313e+00          1.000313e+00  1.000313e+00   \n",
              "min   -1.603945e+00        -1.422500e+00         -1.230584e+00 -3.538731e+00   \n",
              "25%   -3.712290e-01        -8.487156e-01         -7.440403e-01 -6.077557e-01   \n",
              "50%   -1.799455e-01        -1.793002e-01         -2.574968e-01  1.760083e-03   \n",
              "75%    5.384542e-02         4.901152e-01          4.723184e-01  5.768249e-01   \n",
              "max    1.112703e+01         5.367284e+00          7.375154e+00  3.680055e+00   \n",
              "\n",
              "                 pH     sulphates       alcohol       quality  \n",
              "count  1.599000e+03  1.599000e+03  1.599000e+03  1.599000e+03  \n",
              "mean   2.861723e-15  6.754377e-16  1.066481e-16  8.887339e-17  \n",
              "std    1.000313e+00  1.000313e+00  1.000313e+00  1.000313e+00  \n",
              "min   -3.700401e+00 -1.936507e+00 -1.898919e+00 -3.265165e+00  \n",
              "25%   -6.551405e-01 -6.382196e-01 -8.663789e-01 -7.878226e-01  \n",
              "50%   -7.212705e-03 -2.251281e-01 -2.093081e-01  4.508484e-01  \n",
              "75%    5.759223e-01  4.240158e-01  6.354971e-01  4.508484e-01  \n",
              "max    4.528282e+00  7.918677e+00  4.202453e+00  2.928190e+00  "
            ],
            "text/html": [
              "\n",
              "  <div id=\"df-855a929c-0ec3-4f2b-b00e-7e34d401708b\">\n",
              "    <div class=\"colab-df-container\">\n",
              "      <div>\n",
              "<style scoped>\n",
              "    .dataframe tbody tr th:only-of-type {\n",
              "        vertical-align: middle;\n",
              "    }\n",
              "\n",
              "    .dataframe tbody tr th {\n",
              "        vertical-align: top;\n",
              "    }\n",
              "\n",
              "    .dataframe thead th {\n",
              "        text-align: right;\n",
              "    }\n",
              "</style>\n",
              "<table border=\"1\" class=\"dataframe\">\n",
              "  <thead>\n",
              "    <tr style=\"text-align: right;\">\n",
              "      <th></th>\n",
              "      <th>fixed acidity</th>\n",
              "      <th>volatile acidity</th>\n",
              "      <th>citric acid</th>\n",
              "      <th>residual sugar</th>\n",
              "      <th>chlorides</th>\n",
              "      <th>free sulfur dioxide</th>\n",
              "      <th>total sulfur dioxide</th>\n",
              "      <th>density</th>\n",
              "      <th>pH</th>\n",
              "      <th>sulphates</th>\n",
              "      <th>alcohol</th>\n",
              "      <th>quality</th>\n",
              "    </tr>\n",
              "  </thead>\n",
              "  <tbody>\n",
              "    <tr>\n",
              "      <th>count</th>\n",
              "      <td>1.599000e+03</td>\n",
              "      <td>1.599000e+03</td>\n",
              "      <td>1.599000e+03</td>\n",
              "      <td>1.599000e+03</td>\n",
              "      <td>1.599000e+03</td>\n",
              "      <td>1.599000e+03</td>\n",
              "      <td>1.599000e+03</td>\n",
              "      <td>1.599000e+03</td>\n",
              "      <td>1.599000e+03</td>\n",
              "      <td>1.599000e+03</td>\n",
              "      <td>1.599000e+03</td>\n",
              "      <td>1.599000e+03</td>\n",
              "    </tr>\n",
              "    <tr>\n",
              "      <th>mean</th>\n",
              "      <td>3.554936e-16</td>\n",
              "      <td>1.733031e-16</td>\n",
              "      <td>-8.887339e-17</td>\n",
              "      <td>-1.244227e-16</td>\n",
              "      <td>3.732682e-16</td>\n",
              "      <td>-6.221137e-17</td>\n",
              "      <td>4.443669e-17</td>\n",
              "      <td>-3.473172e-14</td>\n",
              "      <td>2.861723e-15</td>\n",
              "      <td>6.754377e-16</td>\n",
              "      <td>1.066481e-16</td>\n",
              "      <td>8.887339e-17</td>\n",
              "    </tr>\n",
              "    <tr>\n",
              "      <th>std</th>\n",
              "      <td>1.000313e+00</td>\n",
              "      <td>1.000313e+00</td>\n",
              "      <td>1.000313e+00</td>\n",
              "      <td>1.000313e+00</td>\n",
              "      <td>1.000313e+00</td>\n",
              "      <td>1.000313e+00</td>\n",
              "      <td>1.000313e+00</td>\n",
              "      <td>1.000313e+00</td>\n",
              "      <td>1.000313e+00</td>\n",
              "      <td>1.000313e+00</td>\n",
              "      <td>1.000313e+00</td>\n",
              "      <td>1.000313e+00</td>\n",
              "    </tr>\n",
              "    <tr>\n",
              "      <th>min</th>\n",
              "      <td>-2.137045e+00</td>\n",
              "      <td>-2.278280e+00</td>\n",
              "      <td>-1.391472e+00</td>\n",
              "      <td>-1.162696e+00</td>\n",
              "      <td>-1.603945e+00</td>\n",
              "      <td>-1.422500e+00</td>\n",
              "      <td>-1.230584e+00</td>\n",
              "      <td>-3.538731e+00</td>\n",
              "      <td>-3.700401e+00</td>\n",
              "      <td>-1.936507e+00</td>\n",
              "      <td>-1.898919e+00</td>\n",
              "      <td>-3.265165e+00</td>\n",
              "    </tr>\n",
              "    <tr>\n",
              "      <th>25%</th>\n",
              "      <td>-7.007187e-01</td>\n",
              "      <td>-7.699311e-01</td>\n",
              "      <td>-9.293181e-01</td>\n",
              "      <td>-4.532184e-01</td>\n",
              "      <td>-3.712290e-01</td>\n",
              "      <td>-8.487156e-01</td>\n",
              "      <td>-7.440403e-01</td>\n",
              "      <td>-6.077557e-01</td>\n",
              "      <td>-6.551405e-01</td>\n",
              "      <td>-6.382196e-01</td>\n",
              "      <td>-8.663789e-01</td>\n",
              "      <td>-7.878226e-01</td>\n",
              "    </tr>\n",
              "    <tr>\n",
              "      <th>50%</th>\n",
              "      <td>-2.410944e-01</td>\n",
              "      <td>-4.368911e-02</td>\n",
              "      <td>-5.636026e-02</td>\n",
              "      <td>-2.403750e-01</td>\n",
              "      <td>-1.799455e-01</td>\n",
              "      <td>-1.793002e-01</td>\n",
              "      <td>-2.574968e-01</td>\n",
              "      <td>1.760083e-03</td>\n",
              "      <td>-7.212705e-03</td>\n",
              "      <td>-2.251281e-01</td>\n",
              "      <td>-2.093081e-01</td>\n",
              "      <td>4.508484e-01</td>\n",
              "    </tr>\n",
              "    <tr>\n",
              "      <th>75%</th>\n",
              "      <td>5.057952e-01</td>\n",
              "      <td>6.266881e-01</td>\n",
              "      <td>7.652471e-01</td>\n",
              "      <td>4.341614e-02</td>\n",
              "      <td>5.384542e-02</td>\n",
              "      <td>4.901152e-01</td>\n",
              "      <td>4.723184e-01</td>\n",
              "      <td>5.768249e-01</td>\n",
              "      <td>5.759223e-01</td>\n",
              "      <td>4.240158e-01</td>\n",
              "      <td>6.354971e-01</td>\n",
              "      <td>4.508484e-01</td>\n",
              "    </tr>\n",
              "    <tr>\n",
              "      <th>max</th>\n",
              "      <td>4.355149e+00</td>\n",
              "      <td>5.877976e+00</td>\n",
              "      <td>3.743574e+00</td>\n",
              "      <td>9.195681e+00</td>\n",
              "      <td>1.112703e+01</td>\n",
              "      <td>5.367284e+00</td>\n",
              "      <td>7.375154e+00</td>\n",
              "      <td>3.680055e+00</td>\n",
              "      <td>4.528282e+00</td>\n",
              "      <td>7.918677e+00</td>\n",
              "      <td>4.202453e+00</td>\n",
              "      <td>2.928190e+00</td>\n",
              "    </tr>\n",
              "  </tbody>\n",
              "</table>\n",
              "</div>\n",
              "      <button class=\"colab-df-convert\" onclick=\"convertToInteractive('df-855a929c-0ec3-4f2b-b00e-7e34d401708b')\"\n",
              "              title=\"Convert this dataframe to an interactive table.\"\n",
              "              style=\"display:none;\">\n",
              "        \n",
              "  <svg xmlns=\"http://www.w3.org/2000/svg\" height=\"24px\"viewBox=\"0 0 24 24\"\n",
              "       width=\"24px\">\n",
              "    <path d=\"M0 0h24v24H0V0z\" fill=\"none\"/>\n",
              "    <path d=\"M18.56 5.44l.94 2.06.94-2.06 2.06-.94-2.06-.94-.94-2.06-.94 2.06-2.06.94zm-11 1L8.5 8.5l.94-2.06 2.06-.94-2.06-.94L8.5 2.5l-.94 2.06-2.06.94zm10 10l.94 2.06.94-2.06 2.06-.94-2.06-.94-.94-2.06-.94 2.06-2.06.94z\"/><path d=\"M17.41 7.96l-1.37-1.37c-.4-.4-.92-.59-1.43-.59-.52 0-1.04.2-1.43.59L10.3 9.45l-7.72 7.72c-.78.78-.78 2.05 0 2.83L4 21.41c.39.39.9.59 1.41.59.51 0 1.02-.2 1.41-.59l7.78-7.78 2.81-2.81c.8-.78.8-2.07 0-2.86zM5.41 20L4 18.59l7.72-7.72 1.47 1.35L5.41 20z\"/>\n",
              "  </svg>\n",
              "      </button>\n",
              "      \n",
              "  <style>\n",
              "    .colab-df-container {\n",
              "      display:flex;\n",
              "      flex-wrap:wrap;\n",
              "      gap: 12px;\n",
              "    }\n",
              "\n",
              "    .colab-df-convert {\n",
              "      background-color: #E8F0FE;\n",
              "      border: none;\n",
              "      border-radius: 50%;\n",
              "      cursor: pointer;\n",
              "      display: none;\n",
              "      fill: #1967D2;\n",
              "      height: 32px;\n",
              "      padding: 0 0 0 0;\n",
              "      width: 32px;\n",
              "    }\n",
              "\n",
              "    .colab-df-convert:hover {\n",
              "      background-color: #E2EBFA;\n",
              "      box-shadow: 0px 1px 2px rgba(60, 64, 67, 0.3), 0px 1px 3px 1px rgba(60, 64, 67, 0.15);\n",
              "      fill: #174EA6;\n",
              "    }\n",
              "\n",
              "    [theme=dark] .colab-df-convert {\n",
              "      background-color: #3B4455;\n",
              "      fill: #D2E3FC;\n",
              "    }\n",
              "\n",
              "    [theme=dark] .colab-df-convert:hover {\n",
              "      background-color: #434B5C;\n",
              "      box-shadow: 0px 1px 3px 1px rgba(0, 0, 0, 0.15);\n",
              "      filter: drop-shadow(0px 1px 2px rgba(0, 0, 0, 0.3));\n",
              "      fill: #FFFFFF;\n",
              "    }\n",
              "  </style>\n",
              "\n",
              "      <script>\n",
              "        const buttonEl =\n",
              "          document.querySelector('#df-855a929c-0ec3-4f2b-b00e-7e34d401708b button.colab-df-convert');\n",
              "        buttonEl.style.display =\n",
              "          google.colab.kernel.accessAllowed ? 'block' : 'none';\n",
              "\n",
              "        async function convertToInteractive(key) {\n",
              "          const element = document.querySelector('#df-855a929c-0ec3-4f2b-b00e-7e34d401708b');\n",
              "          const dataTable =\n",
              "            await google.colab.kernel.invokeFunction('convertToInteractive',\n",
              "                                                     [key], {});\n",
              "          if (!dataTable) return;\n",
              "\n",
              "          const docLinkHtml = 'Like what you see? Visit the ' +\n",
              "            '<a target=\"_blank\" href=https://colab.research.google.com/notebooks/data_table.ipynb>data table notebook</a>'\n",
              "            + ' to learn more about interactive tables.';\n",
              "          element.innerHTML = '';\n",
              "          dataTable['output_type'] = 'display_data';\n",
              "          await google.colab.output.renderOutput(dataTable, element);\n",
              "          const docLink = document.createElement('div');\n",
              "          docLink.innerHTML = docLinkHtml;\n",
              "          element.appendChild(docLink);\n",
              "        }\n",
              "      </script>\n",
              "    </div>\n",
              "  </div>\n",
              "  "
            ]
          },
          "metadata": {},
          "execution_count": 58
        }
      ]
    },
    {
      "cell_type": "code",
      "source": [
        "fig, ax = plt.subplots(1,figsize=(17,4))\n",
        "ax = sns.boxplot(data=data)\n",
        "ax.set_xticklabels(ax.get_xticklabels())\n",
        "plt.show()"
      ],
      "metadata": {
        "colab": {
          "base_uri": "https://localhost:8080/",
          "height": 302
        },
        "id": "uTxalbmc9z1W",
        "outputId": "2070cba5-d638-4d07-f182-137e5a6c24e9"
      },
      "execution_count": 59,
      "outputs": [
        {
          "output_type": "display_data",
          "data": {
            "text/plain": [
              "<Figure size 1700x400 with 1 Axes>"
            ],
            "image/png": "[encoded data removed]"
          },
          "metadata": {}
        }
      ]
    },
    {
      "cell_type": "code",
      "source": [
        "data_original = copy.deepcopy(data)"
      ],
      "metadata": {
        "id": "WcXaNZqHLZgG"
      },
      "execution_count": 60,
      "outputs": []
    },
    {
      "cell_type": "code",
      "source": [
        "# Residual Suger is the one we will try to predict via interpolation using DL\n",
        "\n",
        "n = 10\n",
        "\n",
        "nanVals = np.random.choice(range(len(data)),size=n,replace=False)\n",
        "data['residual sugar'][nanVals] = np.nan \n",
        "notNanVals = np.where(~data['residual sugar'].isna())[0] \n",
        "\n"
      ],
      "metadata": {
        "id": "sYhvU9Cg9-u8"
      },
      "execution_count": 61,
      "outputs": []
    },
    {
      "cell_type": "code",
      "source": [
        "myColsNames = data.keys()\n",
        "updatedColNames =myColsNames.drop(['residual sugar'])\n",
        "\n",
        "trainDataT = torch.tensor(data[updatedColNames].values).float()\n",
        "trainDataT = trainDataT[notNanVals,:]\n",
        "trainlabelT = torch.tensor(data['residual sugar'].values).float()\n",
        "trainlabelT = trainlabelT[notNanVals,None] # None to transform to matrix\n",
        "\n",
        "testDataT = torch.tensor(data_original[updatedColNames].values).float()\n",
        "testDataT = testDataT[nanVals,:]\n",
        "testlabelT = torch.tensor(data_original['residual sugar'].values).float()\n",
        "testlabelT = testlabelT[nanVals,None] # None to transform to matrix\n",
        "\n",
        "print(f'Train Data {trainDataT.shape} \\n')\n",
        "print(f'Train Labels {trainlabelT.shape} \\n')\n",
        "print(f'Test Labels {testlabelT.shape} \\n')\n",
        "print(f'Test Data {testDataT.shape} \\n')"
      ],
      "metadata": {
        "colab": {
          "base_uri": "https://localhost:8080/"
        },
        "id": "23OU5aU3_Bat",
        "outputId": "05ea964b-85a2-4c9b-d4f4-94b78338e3e2"
      },
      "execution_count": 62,
      "outputs": [
        {
          "output_type": "stream",
          "name": "stdout",
          "text": [
            "Train Data torch.Size([1589, 11]) \n",
            "\n",
            "Train Labels torch.Size([1589, 1]) \n",
            "\n",
            "Test Labels torch.Size([10, 1]) \n",
            "\n",
            "Test Data torch.Size([10, 11]) \n",
            "\n"
          ]
        }
      ]
    },
    {
      "cell_type": "code",
      "source": [
        "train_data = TensorDataset(trainDataT,trainlabelT)\n",
        "batchSize = 16\n",
        "train_loader = DataLoader(train_data,batch_size=batchSize,shuffle=True,drop_last=True)"
      ],
      "metadata": {
        "id": "kpJpopqG_Ca9"
      },
      "execution_count": 63,
      "outputs": []
    },
    {
      "cell_type": "code",
      "source": [
        "# The DL section\n",
        "\n",
        "class WineNN(nn.Module):\n",
        "  def __init__(self):\n",
        "    super().__init__()\n",
        "\n",
        "    # input layer\n",
        "    self.input = nn.Linear(11,16)\n",
        "\n",
        "    # hidden layer\n",
        "    self.fc1 = nn.Linear(16,32)\n",
        "    self.fc2 = nn.Linear(32,16)\n",
        "\n",
        "    #outout\n",
        "    self.output = nn.Linear(16,1)\n",
        "\n",
        "  def forward(self,x):\n",
        "    x = F.relu(self.input(x))\n",
        "    x = F.relu(self.fc1(x))\n",
        "    x = F.relu(self.fc2(x))\n",
        "    return self.output(x)\n",
        "\n",
        "      \n",
        "     "
      ],
      "metadata": {
        "id": "x8qfmHBzSKmt"
      },
      "execution_count": 64,
      "outputs": []
    },
    {
      "cell_type": "code",
      "source": [
        "# Test the model using some data from the training set\n",
        "# test the model on a bit of data\n",
        "testNet = WineNN()\n",
        "\n",
        "X,y = next(iter(train_loader))\n",
        "y_hat = testNet(X)\n",
        "print(y_hat) \n",
        "\n",
        "#Compute Loss\n",
        "lossFun = nn.MSELoss()\n",
        "lossFun(y,y_hat)"
      ],
      "metadata": {
        "colab": {
          "base_uri": "https://localhost:8080/"
        },
        "id": "FjX7RWcqShMQ",
        "outputId": "7b528fef-3c49-4bf0-a6a4-c53becad2582"
      },
      "execution_count": 65,
      "outputs": [
        {
          "output_type": "stream",
          "name": "stdout",
          "text": [
            "tensor([[0.1839],\n",
            "        [0.1652],\n",
            "        [0.1921],\n",
            "        [0.1636],\n",
            "        [0.1804],\n",
            "        [0.1955],\n",
            "        [0.1699],\n",
            "        [0.1718],\n",
            "        [0.1923],\n",
            "        [0.1916],\n",
            "        [0.1925],\n",
            "        [0.1850],\n",
            "        [0.1619],\n",
            "        [0.1827],\n",
            "        [0.2067],\n",
            "        [0.1800]], grad_fn=<AddmmBackward0>)\n"
          ]
        },
        {
          "output_type": "execute_result",
          "data": {
            "text/plain": [
              "tensor(1.4240, grad_fn=<MseLossBackward0>)"
            ]
          },
          "metadata": {},
          "execution_count": 65
        }
      ]
    },
    {
      "cell_type": "code",
      "source": [
        "# start with a fresh network\n",
        "net = WineNN()\n",
        "optimizer = torch.optim.Adam(net.parameters(),lr=.001)\n",
        "lossfun = nn.MSELoss() \n",
        "\n",
        "# number of training epochs\n",
        "numepochs = 300\n",
        "\n",
        "\n",
        "# initialize losses and accuracies\n",
        "trainLoss = torch.zeros(numepochs)\n",
        "\n",
        "\n",
        "# loop over epochs\n",
        "for epochi in range(numepochs):\n",
        "\n",
        "  # loop over training data batches\n",
        "  batchLoss = []\n",
        "  for X,y in train_loader:\n",
        "\n",
        "    # forward pass and loss\n",
        "    yHat = net(X)\n",
        "    loss = lossfun(yHat,y)\n",
        "\n",
        "    # backprop\n",
        "    optimizer.zero_grad()\n",
        "    loss.backward()\n",
        "    optimizer.step()\n",
        "\n",
        "    # loss from this batch\n",
        "    batchLoss.append(loss.item())\n",
        "    \n",
        "  # end of batch loop...\n",
        "\n",
        "  # get average losses across the batches\n",
        "  trainLoss[epochi] = np.mean(batchLoss)\n"
      ],
      "metadata": {
        "id": "1SuciwdLSypO"
      },
      "execution_count": 66,
      "outputs": []
    },
    {
      "cell_type": "code",
      "source": [
        "# Make predictions\n",
        "yHatTrain = net(trainDataT)\n",
        "yHatTest = net(testDataT)"
      ],
      "metadata": {
        "id": "vYPB3K7tVyV8"
      },
      "execution_count": 67,
      "outputs": []
    },
    {
      "cell_type": "code",
      "source": [
        "fig,ax = plt.subplots(1,2,figsize=(16,5))\n",
        "\n",
        "ax[0].plot(trainLoss,'s-',label='Train')\n",
        "ax[0].set_xlabel('Epochs')\n",
        "ax[0].set_ylabel('Loss')\n",
        "ax[0].set_title('Train loss')\n",
        "ax[0].legend()\n",
        "ax[0].grid()\n",
        "\n",
        "\n",
        "\n",
        "ax[1].plot(yHatTrain.detach().T,trainlabelT.T,'ro')\n",
        "ax[1].plot(yHatTest.detach().T,testlabelT.T,'b^')\n",
        "ax[1].set_xlabel('Predicted Sugar')\n",
        "ax[1].set_ylabel('True Sugar')\n",
        "ax[1].set_title('Prediction vs. True Value')\n",
        "\n",
        "plt.show()\n",
        "\n",
        "# Correlation between prediction on Train Dataset vs. Test Dataset\n",
        "corrTrain = np.corrcoef(yHatTrain.detach().T,trainlabelT.T)[1,0]\n",
        "corrTest = np.corrcoef(yHatTest.detach().T,testlabelT.T)[1,0]\n",
        "\n",
        "print(f'Corrlation coeff {corrTrain} \\n')\n",
        "print(f'Corrlation coeff {corrTest} \\n')\n",
        "\n",
        "\n"
      ],
      "metadata": {
        "colab": {
          "base_uri": "https://localhost:8080/",
          "height": 484
        },
        "id": "cauq8G7db3vd",
        "outputId": "9e028691-df1e-4b33-c992-674078077020"
      },
      "execution_count": 68,
      "outputs": [
        {
          "output_type": "display_data",
          "data": {
            "text/plain": [
              "<Figure size 1600x500 with 2 Axes>"
            ],
            "image/png": "[encoded data removed]"
          },
          "metadata": {}
        },
        {
          "output_type": "stream",
          "name": "stdout",
          "text": [
            "Corrlation coeff 0.9775166604843529 \n",
            "\n",
            "Corrlation coeff 0.8622934567325786 \n",
            "\n"
          ]
        }
      ]
    },
    {
      "cell_type": "code",
      "source": [
        "# References:\n",
        "#TEACHER: Mike X Cohen, sincxpress.com\n",
        "#COURSE URL: udemy.com/course/deeplearning_x/"
      ],
      "metadata": {
        "id": "rG52YzjlcntF"
      },
      "execution_count": 69,
      "outputs": []
    }
  ]
}