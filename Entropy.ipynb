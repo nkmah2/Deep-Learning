{
  "nbformat": 4,
  "nbformat_minor": 0,
  "metadata": {
    "colab": {
      "provenance": [],
      "authorship_tag": "ABX9TyP72NIYYAmAq6eQ1hNpIgTD",
      "include_colab_link": true
    },
    "kernelspec": {
      "name": "python3",
      "display_name": "Python 3"
    },
    "language_info": {
      "name": "python"
    }
  },
  "cells": [
    {
      "cell_type": "markdown",
      "metadata": {
        "id": "view-in-github",
        "colab_type": "text"
      },
      "source": [
        "<a href=\"https://colab.research.google.com/github/nkmah2/Deep-Learning/blob/master/Entropy.ipynb\" target=\"_parent\"><img src=\"https://colab.research.google.com/assets/colab-badge.svg\" alt=\"Open In Colab\"/></a>"
      ]
    },
    {
      "cell_type": "code",
      "execution_count": 1,
      "metadata": {
        "id": "-oCEbG9D33QH"
      },
      "outputs": [],
      "source": [
        "import numpy as np\n"
      ]
    },
    {
      "cell_type": "markdown",
      "source": [
        "# Entropy\n",
        "\n",
        "$$H(p)=-\\sum p * log(p)$$"
      ],
      "metadata": {
        "id": "4lJprkZ_9pWb"
      }
    },
    {
      "cell_type": "code",
      "source": [
        "def entropy(data):\n",
        "\n",
        "  # Frequency of occurences stored in a dict\n",
        "  freq = {}\n",
        "  for val in data:\n",
        "    if val not in freq:\n",
        "      freq[val] = 1\n",
        "    else:\n",
        "      freq[val] = freq[val] + 1\n",
        "\n",
        "  # Compute the entropy based on the freq\n",
        "  entropy_val = 0\n",
        "  l =len(data)\n",
        "  for f in freq.values():\n",
        "    p = f / l;\n",
        "    entropy_val = entropy_val - (p*np.log(p))\n",
        "\n",
        "  return entropy_val\n",
        "\n",
        "# Data of same values -> low entropy\n",
        "data = np.ones(10)\n",
        "print (data)\n",
        "print(entropy(data))\n",
        "\n",
        "# Data of random values -> high entropy\n",
        "data = np.random.randint(1,100,size = 20)\n",
        "print (data)\n",
        "print(entropy(data))\n"
      ],
      "metadata": {
        "colab": {
          "base_uri": "https://localhost:8080/"
        },
        "id": "hCecKa6m-EfR",
        "outputId": "06673074-4859-4a14-d52d-2881b19cf421"
      },
      "execution_count": 9,
      "outputs": [
        {
          "output_type": "stream",
          "name": "stdout",
          "text": [
            "[1. 1. 1. 1. 1. 1. 1. 1. 1. 1.]\n",
            "0.0\n",
            "[ 5 40 66 32 45 19 21 41 25 35 39 29 14 94 58 63 34 86 85  3]\n",
            "2.995732273553991\n"
          ]
        }
      ]
    },
    {
      "cell_type": "code",
      "source": [],
      "metadata": {
        "id": "FoB4mvuj-9wj"
      },
      "execution_count": null,
      "outputs": []
    }
  ]
}